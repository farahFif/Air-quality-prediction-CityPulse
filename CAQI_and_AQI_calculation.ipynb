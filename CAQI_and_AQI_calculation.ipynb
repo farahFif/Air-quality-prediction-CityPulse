{
  "nbformat": 4,
  "nbformat_minor": 0,
  "metadata": {
    "colab": {
      "name": "CAQI and AQI_calculation.ipynb",
      "provenance": [],
      "collapsed_sections": [],
      "toc_visible": true,
      "authorship_tag": "ABX9TyPxn/YZLxf+cQYMPg/Eb5se"
    },
    "kernelspec": {
      "name": "python3",
      "display_name": "Python 3"
    }
  },
  "cells": [
    {
      "cell_type": "code",
      "metadata": {
        "id": "CCScp1w_yXgL",
        "colab_type": "code",
        "colab": {}
      },
      "source": [
        "import pandas as pd\n",
        "import numpy as np\n",
        "import math\n",
        "import datetime\n"
      ],
      "execution_count": 2,
      "outputs": []
    },
    {
      "cell_type": "code",
      "metadata": {
        "id": "-dmrexp3kiYs",
        "colab_type": "code",
        "colab": {
          "base_uri": "https://localhost:8080/",
          "height": 306
        },
        "outputId": "987836dc-ec20-481a-a92c-f8ac5efc7993"
      },
      "source": [
        "pollution = pd.read_csv('pollution_data.csv',sep=\",\",parse_dates=['TIMESTAMP'])\n",
        "pollution.head()\n"
      ],
      "execution_count": 6,
      "outputs": [
        {
          "output_type": "execute_result",
          "data": {
            "text/html": [
              "<div>\n",
              "<style scoped>\n",
              "    .dataframe tbody tr th:only-of-type {\n",
              "        vertical-align: middle;\n",
              "    }\n",
              "\n",
              "    .dataframe tbody tr th {\n",
              "        vertical-align: top;\n",
              "    }\n",
              "\n",
              "    .dataframe thead th {\n",
              "        text-align: right;\n",
              "    }\n",
              "</style>\n",
              "<table border=\"1\" class=\"dataframe\">\n",
              "  <thead>\n",
              "    <tr style=\"text-align: right;\">\n",
              "      <th></th>\n",
              "      <th>Unnamed: 0</th>\n",
              "      <th>ozone</th>\n",
              "      <th>particullate_matter</th>\n",
              "      <th>carbon_monoxide</th>\n",
              "      <th>sulfure_dioxide</th>\n",
              "      <th>nitrogen_dioxide</th>\n",
              "      <th>TIMESTAMP</th>\n",
              "    </tr>\n",
              "  </thead>\n",
              "  <tbody>\n",
              "    <tr>\n",
              "      <th>0</th>\n",
              "      <td>287</td>\n",
              "      <td>67</td>\n",
              "      <td>114</td>\n",
              "      <td>30</td>\n",
              "      <td>46</td>\n",
              "      <td>151</td>\n",
              "      <td>2014-02-08 00:00:00</td>\n",
              "    </tr>\n",
              "    <tr>\n",
              "      <th>1</th>\n",
              "      <td>288</td>\n",
              "      <td>68</td>\n",
              "      <td>119</td>\n",
              "      <td>33</td>\n",
              "      <td>51</td>\n",
              "      <td>153</td>\n",
              "      <td>2014-02-08 00:05:00</td>\n",
              "    </tr>\n",
              "    <tr>\n",
              "      <th>2</th>\n",
              "      <td>289</td>\n",
              "      <td>67</td>\n",
              "      <td>117</td>\n",
              "      <td>32</td>\n",
              "      <td>51</td>\n",
              "      <td>153</td>\n",
              "      <td>2014-02-08 00:10:00</td>\n",
              "    </tr>\n",
              "    <tr>\n",
              "      <th>3</th>\n",
              "      <td>290</td>\n",
              "      <td>62</td>\n",
              "      <td>122</td>\n",
              "      <td>29</td>\n",
              "      <td>54</td>\n",
              "      <td>154</td>\n",
              "      <td>2014-02-08 00:15:00</td>\n",
              "    </tr>\n",
              "    <tr>\n",
              "      <th>4</th>\n",
              "      <td>291</td>\n",
              "      <td>63</td>\n",
              "      <td>124</td>\n",
              "      <td>28</td>\n",
              "      <td>50</td>\n",
              "      <td>152</td>\n",
              "      <td>2014-02-08 00:20:00</td>\n",
              "    </tr>\n",
              "  </tbody>\n",
              "</table>\n",
              "</div>"
            ],
            "text/plain": [
              "   Unnamed: 0  ozone  ...  nitrogen_dioxide           TIMESTAMP\n",
              "0         287     67  ...               151 2014-02-08 00:00:00\n",
              "1         288     68  ...               153 2014-02-08 00:05:00\n",
              "2         289     67  ...               153 2014-02-08 00:10:00\n",
              "3         290     62  ...               154 2014-02-08 00:15:00\n",
              "4         291     63  ...               152 2014-02-08 00:20:00\n",
              "\n",
              "[5 rows x 7 columns]"
            ]
          },
          "metadata": {
            "tags": []
          },
          "execution_count": 6
        }
      ]
    },
    {
      "cell_type": "code",
      "metadata": {
        "id": "Ni4ijpS3y1_T",
        "colab_type": "code",
        "colab": {
          "base_uri": "https://localhost:8080/",
          "height": 233
        },
        "outputId": "7bbcf96d-f9b3-47ac-adff-ed955bd1305f"
      },
      "source": [
        "# Reading pollution csv that contains data for 2 months Aug and Sept\n",
        "pollution = pd.read_csv('pollution_data.csv',sep=\",\",parse_dates=['TIMESTAMP'])\n",
        "pollution['TIMESTAMP'] = pd.to_datetime(pollution['TIMESTAMP'])\n",
        "pollution.set_index('TIMESTAMP', inplace = True)\n",
        "pollution.head()"
      ],
      "execution_count": null,
      "outputs": [
        {
          "output_type": "execute_result",
          "data": {
            "text/html": [
              "<div>\n",
              "<style scoped>\n",
              "    .dataframe tbody tr th:only-of-type {\n",
              "        vertical-align: middle;\n",
              "    }\n",
              "\n",
              "    .dataframe tbody tr th {\n",
              "        vertical-align: top;\n",
              "    }\n",
              "\n",
              "    .dataframe thead th {\n",
              "        text-align: right;\n",
              "    }\n",
              "</style>\n",
              "<table border=\"1\" class=\"dataframe\">\n",
              "  <thead>\n",
              "    <tr style=\"text-align: right;\">\n",
              "      <th></th>\n",
              "      <th>Unnamed: 0</th>\n",
              "      <th>ozone</th>\n",
              "      <th>particullate_matter</th>\n",
              "      <th>carbon_monoxide</th>\n",
              "      <th>sulfure_dioxide</th>\n",
              "      <th>nitrogen_dioxide</th>\n",
              "    </tr>\n",
              "    <tr>\n",
              "      <th>TIMESTAMP</th>\n",
              "      <th></th>\n",
              "      <th></th>\n",
              "      <th></th>\n",
              "      <th></th>\n",
              "      <th></th>\n",
              "      <th></th>\n",
              "    </tr>\n",
              "  </thead>\n",
              "  <tbody>\n",
              "    <tr>\n",
              "      <th>2014-02-08 00:00:00</th>\n",
              "      <td>287</td>\n",
              "      <td>67</td>\n",
              "      <td>114</td>\n",
              "      <td>30</td>\n",
              "      <td>46</td>\n",
              "      <td>151</td>\n",
              "    </tr>\n",
              "    <tr>\n",
              "      <th>2014-02-08 00:05:00</th>\n",
              "      <td>288</td>\n",
              "      <td>68</td>\n",
              "      <td>119</td>\n",
              "      <td>33</td>\n",
              "      <td>51</td>\n",
              "      <td>153</td>\n",
              "    </tr>\n",
              "    <tr>\n",
              "      <th>2014-02-08 00:10:00</th>\n",
              "      <td>289</td>\n",
              "      <td>67</td>\n",
              "      <td>117</td>\n",
              "      <td>32</td>\n",
              "      <td>51</td>\n",
              "      <td>153</td>\n",
              "    </tr>\n",
              "    <tr>\n",
              "      <th>2014-02-08 00:15:00</th>\n",
              "      <td>290</td>\n",
              "      <td>62</td>\n",
              "      <td>122</td>\n",
              "      <td>29</td>\n",
              "      <td>54</td>\n",
              "      <td>154</td>\n",
              "    </tr>\n",
              "    <tr>\n",
              "      <th>2014-02-08 00:20:00</th>\n",
              "      <td>291</td>\n",
              "      <td>63</td>\n",
              "      <td>124</td>\n",
              "      <td>28</td>\n",
              "      <td>50</td>\n",
              "      <td>152</td>\n",
              "    </tr>\n",
              "  </tbody>\n",
              "</table>\n",
              "</div>"
            ],
            "text/plain": [
              "                     Unnamed: 0  ozone  ...  sulfure_dioxide  nitrogen_dioxide\n",
              "TIMESTAMP                               ...                                   \n",
              "2014-02-08 00:00:00         287     67  ...               46               151\n",
              "2014-02-08 00:05:00         288     68  ...               51               153\n",
              "2014-02-08 00:10:00         289     67  ...               51               153\n",
              "2014-02-08 00:15:00         290     62  ...               54               154\n",
              "2014-02-08 00:20:00         291     63  ...               50               152\n",
              "\n",
              "[5 rows x 6 columns]"
            ]
          },
          "metadata": {
            "tags": []
          },
          "execution_count": 9
        }
      ]
    },
    {
      "cell_type": "code",
      "metadata": {
        "id": "qo8lthNaAsXl",
        "colab_type": "code",
        "colab": {
          "base_uri": "https://localhost:8080/",
          "height": 283
        },
        "outputId": "c647be65-dcb4-4972-b93f-3a0c7acf9c15"
      },
      "source": [
        "data  = pollution['1-8-2014':'30-9-2014']\n",
        "CAQI = pd.DataFrame(columns=['PM', 'NO2'])\n",
        "CAQI['PM'] = data['particullate_matter'].resample('60T').mean()\n",
        "CAQI['NO2'] = data['nitrogen_dioxide'].resample('60T').mean()\n",
        "\n",
        "CAQI['PM'].hist()"
      ],
      "execution_count": null,
      "outputs": [
        {
          "output_type": "execute_result",
          "data": {
            "text/plain": [
              "<matplotlib.axes._subplots.AxesSubplot at 0x7f7169859a90>"
            ]
          },
          "metadata": {
            "tags": []
          },
          "execution_count": 11
        },
        {
          "output_type": "display_data",
          "data": {
            "image/png": "[encoded data removed]",
            "text/plain": [
              "<Figure size 432x288 with 1 Axes>"
            ]
          },
          "metadata": {
            "tags": [],
            "needs_background": "light"
          }
        }
      ]
    },
    {
      "cell_type": "code",
      "metadata": {
        "id": "DDsivbUvBATZ",
        "colab_type": "code",
        "colab": {
          "base_uri": "https://localhost:8080/",
          "height": 282
        },
        "outputId": "8776f577-bf9e-44c5-c678-1db339c7e09c"
      },
      "source": [
        "CAQI['NO2'].hist()"
      ],
      "execution_count": null,
      "outputs": [
        {
          "output_type": "execute_result",
          "data": {
            "text/plain": [
              "<matplotlib.axes._subplots.AxesSubplot at 0x7ff012eab588>"
            ]
          },
          "metadata": {
            "tags": []
          },
          "execution_count": 177
        },
        {
          "output_type": "display_data",
          "data": {
            "image/png": "[encoded data removed]",
            "text/plain": [
              "<Figure size 432x288 with 1 Axes>"
            ]
          },
          "metadata": {
            "tags": [],
            "needs_background": "light"
          }
        }
      ]
    },
    {
      "cell_type": "code",
      "metadata": {
        "id": "8XubnISwVkly",
        "colab_type": "code",
        "colab": {}
      },
      "source": [
        "# European method for calcuating AQI alias CAQI\n",
        "\n",
        "def get_AQIs(dataframe):\n",
        "    df = dataframe\n",
        "    CAQI = pd.DataFrame(columns=['PM', 'NO2'])\n",
        "\n",
        "    CAQI['PM'] = df['PM'].resample('60T').mean()\n",
        "    CAQI['NO2'] = df['NO2'].resample('60T').mean()\n",
        "\n",
        "\n",
        "    CAQI.loc[(CAQI['PM'] > 180) & (CAQI['PM'] <= 250) , 'PM'] = 5000\n",
        "    CAQI.loc[(CAQI['PM'] > 90) & (CAQI['PM'] <= 180) , 'PM']  = 4000\n",
        "    CAQI.loc[(CAQI['PM'] > 50) & (CAQI['PM'] <= 90) , 'PM']   = 3000\n",
        "    CAQI.loc[(CAQI['PM'] > 25) & (CAQI['PM'] <= 50) , 'PM']   = 2000\n",
        "    CAQI.loc[(CAQI['PM'] > 0) & (CAQI['PM'] <= 25) , 'PM']    = 1000\n",
        "\n",
        "    CAQI.loc[(CAQI['NO2'] > 400) & (CAQI['NO2'] <= 600) , 'NO2'] = 5000\n",
        "    CAQI.loc[(CAQI['NO2'] > 200) & (CAQI['NO2'] <= 400) , 'NO2'] = 4000\n",
        "    CAQI.loc[(CAQI['NO2'] > 100) & (CAQI['NO2'] <= 200) , 'NO2'] = 3000\n",
        "    CAQI.loc[(CAQI['NO2'] > 50) &  (CAQI['NO2'] <= 100) , 'NO2'] = 2000\n",
        "    CAQI.loc[(CAQI['NO2'] > 0)  &  (CAQI['NO2'] <= 50) , 'NO2']  = 1000\n",
        "\n",
        "    conditions = [\n",
        "    (CAQI['PM'] > CAQI['NO2']), \n",
        "    (CAQI['NO2'] > CAQI['PM']),\n",
        "    (CAQI['NO2'] == CAQI['PM'])]\n",
        "\n",
        "    choices = [CAQI['PM'], CAQI['NO2'], CAQI['NO2']]\n",
        "\n",
        "    CAQI['quality'] = np.select(conditions, choices, default=np.nan)\n",
        "    CAQI['quality'].replace(5000, 'Very High',inplace = True)\n",
        "    CAQI['quality'].replace(4000, 'High',inplace = True)\n",
        "    CAQI['quality'].replace(3000, 'Medium',inplace = True)\n",
        "    CAQI['quality'].replace(2000, 'Low',inplace = True)\n",
        "    CAQI['quality'].replace(1000, 'Very low',inplace = True)\n",
        "\n",
        "    CAQI = CAQI.drop(columns=['PM','NO2'])\n",
        "\n",
        "    CAQI['PM'] = df['PM'].resample('60T').mean()\n",
        "    CAQI['NO2'] = df['NO2'].resample('60T').mean()\n",
        "\n",
        "    return CAQI\n",
        "\n"
      ],
      "execution_count": null,
      "outputs": []
    },
    {
      "cell_type": "code",
      "metadata": {
        "id": "Jf5RTgG81z7F",
        "colab_type": "code",
        "colab": {
          "base_uri": "https://localhost:8080/",
          "height": 283
        },
        "outputId": "23fdfe28-1800-4a7f-fbb8-a84a2d4bec23"
      },
      "source": [
        "CAQI = get_AQIs(CAQI)\n",
        "CAQI['quality'].hist()"
      ],
      "execution_count": null,
      "outputs": [
        {
          "output_type": "execute_result",
          "data": {
            "text/plain": [
              "<matplotlib.axes._subplots.AxesSubplot at 0x7f7169250cf8>"
            ]
          },
          "metadata": {
            "tags": []
          },
          "execution_count": 14
        },
        {
          "output_type": "display_data",
          "data": {
            "image/png": "[encoded data removed]",
            "text/plain": [
              "<Figure size 432x288 with 1 Axes>"
            ]
          },
          "metadata": {
            "tags": [],
            "needs_background": "light"
          }
        }
      ]
    },
    {
      "cell_type": "code",
      "metadata": {
        "id": "GsjuU0xqQePJ",
        "colab_type": "code",
        "colab": {
          "base_uri": "https://localhost:8080/",
          "height": 208
        },
        "outputId": "71f32d08-9bf6-459b-b39b-7b637cb5a227"
      },
      "source": [
        "CAQI.info()"
      ],
      "execution_count": null,
      "outputs": [
        {
          "output_type": "stream",
          "text": [
            "<class 'pandas.core.frame.DataFrame'>\n",
            "DatetimeIndex: 6360 entries, 2014-01-09 00:00:00 to 2014-09-30 23:00:00\n",
            "Freq: 60T\n",
            "Data columns (total 3 columns):\n",
            " #   Column   Non-Null Count  Dtype  \n",
            "---  ------   --------------  -----  \n",
            " 0   quality  1296 non-null   object \n",
            " 1   PM       1296 non-null   float64\n",
            " 2   NO2      1296 non-null   float64\n",
            "dtypes: float64(2), object(1)\n",
            "memory usage: 198.8+ KB\n"
          ],
          "name": "stdout"
        }
      ]
    },
    {
      "cell_type": "code",
      "metadata": {
        "id": "DjI0etpeShR7",
        "colab_type": "code",
        "colab": {}
      },
      "source": [
        "AQI_data = pd.DataFrame(CAQI, columns=[\"PM\",\"NO2\",\"quality\"])\n",
        "AQI_data.head()\n",
        "AQI_data.to_csv(\"CAQI_data.csv\")"
      ],
      "execution_count": null,
      "outputs": []
    },
    {
      "cell_type": "markdown",
      "metadata": {
        "id": "jmBFVrAIHGeK",
        "colab_type": "text"
      },
      "source": [
        "# AQI calculation - American method"
      ]
    },
    {
      "cell_type": "code",
      "metadata": {
        "id": "EsNQUAdSGHSM",
        "colab_type": "code",
        "colab": {}
      },
      "source": [
        "# American way of calculating AQI : concentration to AQI\n",
        "\n",
        "\n",
        "def calculate_AQI_ozone(concentration):\n",
        "    assert concentration >= 0\n",
        "    assert concentration <= 500\n",
        "    value = concentration\n",
        "    concentration_hilo = [(0,54),(55,70),(71,85),(86,105),(106,200),(201,2049)]\n",
        "    AQI_hilo = [(0,50),(51,100),(101,150),(151,200),(201,300),(301,500)]\n",
        "    aqi = -1\n",
        "    for idx, val in enumerate(concentration_hilo):\n",
        "        if value <= val[1] and value >= val[0] :\n",
        "            aqi = (AQI_hilo[idx][1] - AQI_hilo[idx][0])/(concentration_hilo[idx][1]-concentration_hilo[idx][0]) * (value - concentration_hilo[idx][0]) + AQI_hilo[idx][0]\n",
        "            return int(round(aqi))\n",
        "        \n",
        "def calculate_AQI_nitrogene(concentration):\n",
        "    assert concentration >= 0\n",
        "    assert concentration <= 500\n",
        "    value = concentration\n",
        "    concentration_hilo = [(0,53),(54,100),(101,360),(361,649),(650,1294),(1250,2049)]\n",
        "    AQI_hilo = [(0,50),(51,100),(101,150),(151,200),(201,300),(301,500)]\n",
        "    aqi = -1\n",
        "    for idx, val in enumerate(concentration_hilo):\n",
        "        if value <= val[1] and value >= val[0] :\n",
        "            aqi = (AQI_hilo[idx][1] - AQI_hilo[idx][0])/(concentration_hilo[idx][1]-concentration_hilo[idx][0]) * (value - concentration_hilo[idx][0]) + AQI_hilo[idx][0]\n",
        "            return int(round(aqi))\n",
        "\n",
        "\n",
        "def calculate_AQI_sulfure(concentration):\n",
        "    assert concentration >= 0\n",
        "    assert concentration <= 500\n",
        "    value = concentration\n",
        "    concentration_hilo = [(0,35),(36,75),(76,185),(186,304),(305,604),(605,1004)]\n",
        "    AQI_hilo = [(0,50),(51,100),(101,150),(151,200),(201,300),(301,500)]\n",
        "    aqi = -1\n",
        "    for idx, val in enumerate(concentration_hilo):\n",
        "        if value <= val[1] and value >= val[0] :\n",
        "            aqi = (AQI_hilo[idx][1] - AQI_hilo[idx][0])/(concentration_hilo[idx][1]-concentration_hilo[idx][0]) * (value - concentration_hilo[idx][0]) + AQI_hilo[idx][0]\n",
        "            return int(round(aqi))\n",
        "\n",
        "def get_avg_concentration(list_part,times):\n",
        "    ''' Get average concentration per hour , since we have concentrations each 10 min\n",
        "    '''\n",
        "    concentration = 0\n",
        "    j = 0\n",
        "    dates_v = []\n",
        "    for i,val in enumerate(list_part):\n",
        "        #To GET average concentration for each hour\n",
        "        k = j\n",
        "        if k%12 == 0 and j != 0 :\n",
        "            concentration /= 12\n",
        "            dates_v.append((times[i-12],concentration))\n",
        "            concentration = 0\n",
        "            concentration += int(val) \n",
        "        else:\n",
        "            concentration += int(val)\n",
        "        \n",
        "        j+=1\n",
        "    return dates_v\n",
        "\n",
        "\n",
        "def get_AQIs(dataframe):\n",
        "    df = dataframe\n",
        "    AQI_df = pd.DataFrame()\n",
        "    ozone = df['ozone'].to_list()\n",
        "    nitrogene = df['nitrogen_dioxide'].to_list()\n",
        "    sulfure = df['sulfure_dioxide'].to_list()\n",
        "\n",
        "    times = df['TIMESTAMP'].to_list()\n",
        "\n",
        "    AQI_hilo = [(0,50),(51,100),(101,150),(151,200),(201,300),(301,500)]\n",
        "    aqi_v = [\"Good\",\"Moderate\",\"Unhealthy for sensitive\",\"Unhealthy\",\"Very unhealthy\",\"Hazardous\"]\n",
        "    \n",
        "    concentration_o_hourly = get_avg_concentration(ozone,times)\n",
        "    concentration_n_hourly  = get_avg_concentration(nitrogene,times)\n",
        "    concentration_s_hourly  = get_avg_concentration(sulfure,times)\n",
        "    print(concentration_o_hourly[:3])\n",
        "    # Now we got the average concentration for each hour we will calculate the Hourly AQI\n",
        "    # https://forum.airnowtech.org/t/daily-and-hourly-aqi-ozone/170\n",
        "    k = 4\n",
        "    idx = 0\n",
        "    concentration_o = [i[1] for i in concentration_o_hourly]\n",
        "    concentration_n = [i[1] for i in concentration_n_hourly]\n",
        "    concentration_s = [i[1] for i in concentration_s_hourly]\n",
        "\n",
        "    AQI_dates = []\n",
        "    conc_ozone = []\n",
        "    while k >3 and k < (len(concentration_o)-3): \n",
        "        avg_con_o = np.mean(concentration_o[idx:idx+8]) \n",
        "        avg_con_n = np.mean(concentration_n[idx:idx+8])\n",
        "        avg_con_s = np.mean(concentration_s[idx:idx+8])\n",
        "\n",
        "        aqi_o = calculate_AQI_ozone(int(avg_con_o))\n",
        "        aqi_n=calculate_AQI_nitrogene(int(avg_con_n))\n",
        "        aqi_s= calculate_AQI_sulfure(int(avg_con_s))\n",
        "        \n",
        "        aqi = max([aqi_o,aqi_n,aqi_s])\n",
        "        for pos, aqival in enumerate(AQI_hilo):\n",
        "            if aqival[0] <= int(aqi) and int(aqi) <= aqival[1]:\n",
        "                goodness= aqi_v[pos]\n",
        "        AQI_dates.append((concentration_o_hourly[k][0],avg_con_o,avg_con_n,avg_con_s,aqi,goodness))\n",
        "        k+= 1\n",
        "        idx +=1\n",
        "        goodness =\"Hazardous\"\n",
        "        \n",
        "    return AQI_dates\n"
      ],
      "execution_count": 3,
      "outputs": []
    },
    {
      "cell_type": "code",
      "metadata": {
        "id": "KbmoPBsVGiQL",
        "colab_type": "code",
        "colab": {
          "base_uri": "https://localhost:8080/",
          "height": 35
        },
        "outputId": "1447a2e5-f0e3-483e-be28-1ef076a2f6da"
      },
      "source": [
        "calculate_AQI_sulfure(73)"
      ],
      "execution_count": 4,
      "outputs": [
        {
          "output_type": "execute_result",
          "data": {
            "text/plain": [
              "97"
            ]
          },
          "metadata": {
            "tags": []
          },
          "execution_count": 4
        }
      ]
    },
    {
      "cell_type": "code",
      "metadata": {
        "id": "C4bQqN8BGmbT",
        "colab_type": "code",
        "colab": {
          "base_uri": "https://localhost:8080/",
          "height": 55
        },
        "outputId": "b069f725-c1b9-4602-98d7-baddacdef425"
      },
      "source": [
        "aqi_hourly = get_AQIs(pollution)"
      ],
      "execution_count": 7,
      "outputs": [
        {
          "output_type": "stream",
          "text": [
            "[(Timestamp('2014-02-08 00:00:00'), 67.16666666666667), (Timestamp('2014-02-08 01:00:00'), 67.5), (Timestamp('2014-02-08 02:00:00'), 67.66666666666667)]\n"
          ],
          "name": "stdout"
        }
      ]
    },
    {
      "cell_type": "code",
      "metadata": {
        "id": "ELHPpb39Gowb",
        "colab_type": "code",
        "colab": {}
      },
      "source": [
        "AQI_data = pd.DataFrame(aqi_hourly, columns=[\"TIMESTAMP\",\"Ozone\",\"nitrogene\",\"sulfure\",\"AQI\",\"Goodness\"])\n",
        "AQI_data.head()\n",
        "AQI_data.to_csv(\"AQI_data_new.csv\")"
      ],
      "execution_count": null,
      "outputs": []
    }
  ]
}